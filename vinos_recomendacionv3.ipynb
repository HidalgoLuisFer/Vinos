{
  "nbformat": 4,
  "nbformat_minor": 0,
  "metadata": {
    "colab": {
      "provenance": []
    },
    "kernelspec": {
      "name": "python3",
      "display_name": "Python 3"
    },
    "language_info": {
      "name": "python"
    }
  },
  "cells": [
    {
      "cell_type": "code",
      "source": [
        "import zipfile\n",
        "import pandas as pd\n",
        "import numpy as np\n",
        "import math\n",
        "import matplotlib.pyplot as plt\n",
        "import seaborn as sns\n",
        "\n",
        "from sklearn.feature_extraction.text import TfidfVectorizer\n",
        "from sklearn.metrics.pairwise import linear_kernel\n",
        "from sklearn.neighbors import NearestNeighbors\n"
      ],
      "metadata": {
        "id": "r2muYuoE6UGn"
      },
      "execution_count": null,
      "outputs": []
    },
    {
      "cell_type": "code",
      "source": [
        "import zipfile\n",
        "import pandas as pd\n",
        "import json\n",
        "\n",
        "api_token={\"username\":\"luisfhidalgo\",\n",
        "           \"key\":\"d4e4e6425d85ef204447086541cb5b11\"}\n",
        "!rm -rf /roo/.kaggle. # Elimina de forma recursiva y forzada un directorio y su contenido.Por si existe\n",
        "!mkdir  /root/.kaggle # Crea Directorio\n",
        "\n",
        "with open('/root/.kaggle/kaggle.json', 'w') as file:\n",
        "    json.dump(api_token, file)\n",
        "!chmod 600 /root/.kaggle/kaggle.json\n",
        "!kaggle datasets download -d zynicide/wine-reviews\n",
        "archivo_zip = 'wine-reviews.zip'\n",
        "\n",
        "# Listar los archivos dentro del ZIP\n",
        "with zipfile.ZipFile(archivo_zip, 'r') as zip_file:\n",
        "    archivos = zip_file.namelist()\n",
        "    print(\"Archivos en el ZIP:\")\n",
        "    for archivo in archivos:\n",
        "        print(archivo)\n",
        "#Cargo los Archivos Dataset a los dataframe que voy a utilizar\n",
        "\n",
        "archivo_zip = 'wine-reviews.zip'\n",
        "\n",
        "with zipfile.ZipFile(archivo_zip, 'r') as zip_file:\n",
        "\n",
        "        with zip_file.open('winemag-data-130k-v2.csv') as winemag_150_csv:  # winemag-data-130k-v2.csv\n",
        "            winemag_df = pd.read_csv(winemag_150_csv)\n"
      ],
      "metadata": {
        "colab": {
          "base_uri": "https://localhost:8080/"
        },
        "id": "1ob-ymAw66iz",
        "outputId": "d0b7561f-f029-4fec-f310-6a42c8a2e1ec"
      },
      "execution_count": null,
      "outputs": [
        {
          "output_type": "stream",
          "name": "stdout",
          "text": [
            "mkdir: cannot create directory ‘/root/.kaggle’: File exists\n",
            "Dataset URL: https://www.kaggle.com/datasets/zynicide/wine-reviews\n",
            "License(s): CC-BY-NC-SA-4.0\n",
            "wine-reviews.zip: Skipping, found more recently modified local copy (use --force to force download)\n",
            "Archivos en el ZIP:\n",
            "winemag-data-130k-v2.csv\n",
            "winemag-data-130k-v2.json\n",
            "winemag-data_first150k.csv\n"
          ]
        }
      ]
    },
    {
      "cell_type": "code",
      "source": [
        "duplicados = winemag_df.duplicated().sum()\n",
        "print(\"Cantidad de duplicados:\",duplicados) # son registros exactamente iguales\n",
        "winemag_df.drop_duplicates(inplace=True)\n",
        "# Se elimina columna  'Unnamed: 0',\n",
        "#winemag_df.drop('Unnamed: 0', axis=1, inplace=True)\n",
        "winemag_df.isnull().sum()\n",
        "# Se completan valores nulos en 'designation' y 'region_1'\n",
        "winemag_df.loc[:, 'designation'] = winemag_df['designation'].fillna('Unknown')\n",
        "winemag_df.loc[:, 'region_1'] = winemag_df['region_1'].fillna('Unknown')\n",
        "winemag_df.loc[:, 'region_2'] = winemag_df['region_2'].fillna('Unknown')\n",
        "winemag_df.loc[:, 'taster_twitter_handle'] = winemag_df['taster_twitter_handle'].fillna('Unknown')\n",
        "winemag_df = winemag_df.dropna(subset=['taster_name'])\n",
        "# Imputación con la mediana en el campo 'price'\n",
        "mediana_precio = winemag_df['price'].median()\n",
        "winemag_df['price'] = winemag_df['price'].fillna(mediana_precio)\n",
        "# Se elimina  las 5 filas con valores nulos en la columna 'country'\n",
        "winemag_df.dropna(subset=['country'], inplace=True)\n"
      ],
      "metadata": {
        "colab": {
          "base_uri": "https://localhost:8080/"
        },
        "id": "qm7SygVR73s9",
        "outputId": "9b556a3b-a505-419f-a1b0-b6ea1a02c858"
      },
      "execution_count": null,
      "outputs": [
        {
          "output_type": "stream",
          "name": "stdout",
          "text": [
            "Cantidad de duplicados: 0\n"
          ]
        },
        {
          "output_type": "stream",
          "name": "stderr",
          "text": [
            "<ipython-input-14-0d814e8ec99f>:15: SettingWithCopyWarning: \n",
            "A value is trying to be set on a copy of a slice from a DataFrame.\n",
            "Try using .loc[row_indexer,col_indexer] = value instead\n",
            "\n",
            "See the caveats in the documentation: https://pandas.pydata.org/pandas-docs/stable/user_guide/indexing.html#returning-a-view-versus-a-copy\n",
            "  winemag_df['price'] = winemag_df['price'].fillna(mediana_precio)\n",
            "<ipython-input-14-0d814e8ec99f>:17: SettingWithCopyWarning: \n",
            "A value is trying to be set on a copy of a slice from a DataFrame\n",
            "\n",
            "See the caveats in the documentation: https://pandas.pydata.org/pandas-docs/stable/user_guide/indexing.html#returning-a-view-versus-a-copy\n",
            "  winemag_df.dropna(subset=['country'], inplace=True)\n"
          ]
        }
      ]
    },
    {
      "cell_type": "code",
      "source": [
        "winemag_df.info()"
      ],
      "metadata": {
        "colab": {
          "base_uri": "https://localhost:8080/"
        },
        "id": "BNkClIIOesDq",
        "outputId": "51f79047-0aa9-473d-f69c-2a31f63041e2"
      },
      "execution_count": null,
      "outputs": [
        {
          "output_type": "stream",
          "name": "stdout",
          "text": [
            "<class 'pandas.core.frame.DataFrame'>\n",
            "Index: 103664 entries, 0 to 129970\n",
            "Data columns (total 14 columns):\n",
            " #   Column                 Non-Null Count   Dtype  \n",
            "---  ------                 --------------   -----  \n",
            " 0   Unnamed: 0             103664 non-null  int64  \n",
            " 1   country                103664 non-null  object \n",
            " 2   description            103664 non-null  object \n",
            " 3   designation            103664 non-null  object \n",
            " 4   points                 103664 non-null  int64  \n",
            " 5   price                  103664 non-null  float64\n",
            " 6   province               103664 non-null  object \n",
            " 7   region_1               103664 non-null  object \n",
            " 8   region_2               103664 non-null  object \n",
            " 9   taster_name            103664 non-null  object \n",
            " 10  taster_twitter_handle  103664 non-null  object \n",
            " 11  title                  103664 non-null  object \n",
            " 12  variety                103664 non-null  object \n",
            " 13  winery                 103664 non-null  object \n",
            "dtypes: float64(1), int64(2), object(11)\n",
            "memory usage: 11.9+ MB\n"
          ]
        }
      ]
    },
    {
      "cell_type": "code",
      "source": [
        "df = winemag_df.head(5000).copy()"
      ],
      "metadata": {
        "id": "tcfkx8r8e3ZW"
      },
      "execution_count": null,
      "outputs": []
    },
    {
      "cell_type": "code",
      "source": [
        "### MODELO BASADO EN CONTENIDO ###\n",
        "def recomendar_vinos_contenido(vino_id, df=df):\n",
        "    \"\"\"\n",
        "    Recomienda vinos similares basados en variedad, país y descripción.\n",
        "    \"\"\"\n",
        "    df[\"features\"] = df[\"variety\"].fillna(\"\") + \" \" + df[\"country\"].fillna(\"\") + \" \" + df[\"description\"].fillna(\"\")\n",
        "\n",
        "    vectorizer = TfidfVectorizer(stop_words=\"english\", max_features=5000)  # Reducir características\n",
        "    tfidf_matrix = vectorizer.fit_transform(df[\"features\"])\n",
        "\n",
        "    cosine_sim = cosine_similarity(tfidf_matrix)\n",
        "    sim_scores = list(enumerate(cosine_sim[vino_id]))\n",
        "    sim_scores = sorted(sim_scores, key=lambda x: x[1], reverse=True)[1:6]  # Top 5\n",
        "    wine_indices = [i[0] for i in sim_scores]\n",
        "    return df.iloc[wine_indices][[\"title\", \"variety\", \"country\"]]"
      ],
      "metadata": {
        "id": "T7D6lYNqbKgF"
      },
      "execution_count": null,
      "outputs": []
    },
    {
      "cell_type": "markdown",
      "source": [],
      "metadata": {
        "id": "W-wQpabxbjt-"
      }
    },
    {
      "cell_type": "code",
      "source": [
        "from sklearn.feature_extraction.text import TfidfVectorizer\n",
        "from sklearn.metrics.pairwise import cosine_similarity\n",
        "from surprise import SVD, Dataset, Reader, KNNBasic\n",
        "from surprise.model_selection import train_test_split\n",
        "from surprise import accuracy"
      ],
      "metadata": {
        "id": "zTF_1n-xbbOc"
      },
      "execution_count": null,
      "outputs": []
    },
    {
      "cell_type": "code",
      "source": [
        "### MODELO COLABORATIVO ###\n",
        "def entrenar_modelo_colaborativo(df):\n",
        "    \"\"\"\n",
        "    Entrena un modelo KNN más ligero basado en puntuaciones de usuarios.\n",
        "    \"\"\"\n",
        "    reader = Reader(rating_scale=(df[\"points\"].min(), df[\"points\"].max()))\n",
        "    data = Dataset.load_from_df(df[[\"taster_name\", \"title\", \"points\"]], reader)\n",
        "    trainset, testset = train_test_split(data, test_size=0.2)\n",
        "\n",
        "    model = KNNBasic()  # Algoritmo más eficiente\n",
        "    model.fit(trainset)\n",
        "\n",
        "    predictions = model.test(testset)\n",
        "    print(f\"RMSE: {accuracy.rmse(predictions)}\")\n",
        "    return model\n",
        "\n",
        "def recomendar_vinos_usuario(usuario, model, df, n=5):\n",
        "    \"\"\"\n",
        "    Recomienda vinos a un usuario basado en puntuaciones previas.\n",
        "    \"\"\"\n",
        "    vinos_no_probados = df[\"title\"].unique()\n",
        "    predicciones = [model.predict(usuario, vino) for vino in vinos_no_probados[:100]]  # Limitar cantidad\n",
        "    predicciones = sorted(predicciones, key=lambda x: x.est, reverse=True)[:n]\n",
        "    return [pred.iid for pred in predicciones]\n",
        "\n",
        "# Entrenar modelo colaborativo\n",
        "modelo_colab = entrenar_modelo_colaborativo(df)"
      ],
      "metadata": {
        "colab": {
          "base_uri": "https://localhost:8080/"
        },
        "id": "NcriQ3HJfeic",
        "outputId": "97de9ea9-3b82-4f1c-c84f-ee14fb4964cc"
      },
      "execution_count": null,
      "outputs": [
        {
          "output_type": "stream",
          "name": "stdout",
          "text": [
            "Computing the msd similarity matrix...\n",
            "Done computing similarity matrix.\n",
            "RMSE: 2.9189\n",
            "RMSE: 2.9189077123129463\n"
          ]
        }
      ]
    },
    {
      "cell_type": "code",
      "source": [
        "# Ejemplo de recomendaciones\n",
        "print(\"Recomendaciones Basadas en Contenido:\")\n",
        "print(recomendar_vinos_contenido(0))\n",
        "\n",
        "print(\"\\nRecomendaciones Basadas en Colaboración:\")\n",
        "print(recomendar_vinos_usuario(\"John Doe\", modelo_colab, df))\n"
      ],
      "metadata": {
        "colab": {
          "base_uri": "https://localhost:8080/"
        },
        "id": "LDHLeAaqfjda",
        "outputId": "75979d2a-12c3-4cfd-b119-8bd6bca15905"
      },
      "execution_count": null,
      "outputs": [
        {
          "metadata": {
            "tags": null
          },
          "name": "stdout",
          "output_type": "stream",
          "text": [
            "Recomendaciones Basadas en Contenido:\n"
          ]
        }
      ]
    }
  ]
}