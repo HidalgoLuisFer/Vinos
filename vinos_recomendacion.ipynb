{
  "nbformat": 4,
  "nbformat_minor": 0,
  "metadata": {
    "colab": {
      "provenance": []
    },
    "kernelspec": {
      "name": "python3",
      "display_name": "Python 3"
    },
    "language_info": {
      "name": "python"
    }
  },
  "cells": [
    {
      "cell_type": "code",
      "source": [
        "import zipfile\n",
        "import pandas as pd\n",
        "import numpy as np\n",
        "import math\n",
        "import matplotlib.pyplot as plt\n",
        "import seaborn as sns\n",
        "\n",
        "from sklearn.feature_extraction.text import TfidfVectorizer\n",
        "from sklearn.metrics.pairwise import linear_kernel\n",
        "from sklearn.neighbors import NearestNeighbors\n"
      ],
      "metadata": {
        "id": "r2muYuoE6UGn"
      },
      "execution_count": null,
      "outputs": []
    },
    {
      "cell_type": "code",
      "source": [
        "import zipfile\n",
        "import pandas as pd\n",
        "import json\n",
        "\n",
        "api_token={\"username\":\"luisfhidalgo\",\n",
        "           \"key\":\"d4e4e6425d85ef204447086541cb5b11\"}\n",
        "!rm -rf /roo/.kaggle. # Elimina de forma recursiva y forzada un directorio y su contenido.Por si existe\n",
        "!mkdir  /root/.kaggle # Crea Directorio\n",
        "\n",
        "with open('/root/.kaggle/kaggle.json', 'w') as file:\n",
        "    json.dump(api_token, file)\n",
        "!chmod 600 /root/.kaggle/kaggle.json\n",
        "!kaggle datasets download -d zynicide/wine-reviews\n",
        "archivo_zip = 'wine-reviews.zip'\n",
        "\n",
        "# Listar los archivos dentro del ZIP\n",
        "with zipfile.ZipFile(archivo_zip, 'r') as zip_file:\n",
        "    archivos = zip_file.namelist()\n",
        "    print(\"Archivos en el ZIP:\")\n",
        "    for archivo in archivos:\n",
        "        print(archivo)\n",
        "#Cargo los Archivos Dataset a los dataframe que voy a utilizar\n",
        "\n",
        "archivo_zip = 'wine-reviews.zip'\n",
        "\n",
        "with zipfile.ZipFile(archivo_zip, 'r') as zip_file:\n",
        "\n",
        "        with zip_file.open('winemag-data_first150k.csv') as winemag_150_csv:\n",
        "            winemag_df = pd.read_csv(winemag_150_csv)\n"
      ],
      "metadata": {
        "colab": {
          "base_uri": "https://localhost:8080/"
        },
        "id": "1ob-ymAw66iz",
        "outputId": "ab84bf83-9dd8-4562-8651-9172bf76b682"
      },
      "execution_count": null,
      "outputs": [
        {
          "output_type": "stream",
          "name": "stdout",
          "text": [
            "mkdir: cannot create directory ‘/root/.kaggle’: File exists\n",
            "Dataset URL: https://www.kaggle.com/datasets/zynicide/wine-reviews\n",
            "License(s): CC-BY-NC-SA-4.0\n",
            "wine-reviews.zip: Skipping, found more recently modified local copy (use --force to force download)\n",
            "Archivos en el ZIP:\n",
            "winemag-data-130k-v2.csv\n",
            "winemag-data-130k-v2.json\n",
            "winemag-data_first150k.csv\n"
          ]
        }
      ]
    },
    {
      "cell_type": "code",
      "source": [
        "winemag_df.info()"
      ],
      "metadata": {
        "colab": {
          "base_uri": "https://localhost:8080/"
        },
        "id": "jwSStCRR7czf",
        "outputId": "5f32468e-117e-44d5-9734-ce5a48c3de93"
      },
      "execution_count": null,
      "outputs": [
        {
          "output_type": "stream",
          "name": "stdout",
          "text": [
            "<class 'pandas.core.frame.DataFrame'>\n",
            "RangeIndex: 150930 entries, 0 to 150929\n",
            "Data columns (total 11 columns):\n",
            " #   Column       Non-Null Count   Dtype  \n",
            "---  ------       --------------   -----  \n",
            " 0   Unnamed: 0   150930 non-null  int64  \n",
            " 1   country      150925 non-null  object \n",
            " 2   description  150930 non-null  object \n",
            " 3   designation  105195 non-null  object \n",
            " 4   points       150930 non-null  int64  \n",
            " 5   price        137235 non-null  float64\n",
            " 6   province     150925 non-null  object \n",
            " 7   region_1     125870 non-null  object \n",
            " 8   region_2     60953 non-null   object \n",
            " 9   variety      150930 non-null  object \n",
            " 10  winery       150930 non-null  object \n",
            "dtypes: float64(1), int64(2), object(8)\n",
            "memory usage: 12.7+ MB\n"
          ]
        }
      ]
    },
    {
      "cell_type": "code",
      "source": [
        "duplicados = winemag_df.duplicated().sum()\n",
        "print(\"Cantidad de duplicados:\",duplicados) # son registros exactamente iguales\n",
        "# Busca registros que contengan la frase\n",
        "registros_coincidentes = winemag_df[winemag_df['description'].str.contains(\"This standout Rocks District wine brings earth\")]\n",
        "# Imprime los registros coincidentes\n",
        "print(registros_coincidentes)\n",
        "winemag_df.drop_duplicates(inplace=True)\n",
        "# Se elimina columna  'Unnamed: 0',\n",
        "winemag_df.drop('Unnamed: 0', axis=1, inplace=True)\n",
        "winemag_df.isnull().sum()\n",
        "# Se completan valores nulos en 'designation' y 'region_1'\n",
        "winemag_df.loc[:, 'designation'] = winemag_df['designation'].fillna('Unknown')\n",
        "winemag_df.loc[:, 'region_1'] = winemag_df['region_1'].fillna('Unknown')\n",
        "winemag_df.loc[:, 'region_2'] = winemag_df['region_2'].fillna('Unknown')\n",
        "# Imputación con la mediana en el campo 'price'\n",
        "mediana_precio = winemag_df['price'].median()\n",
        "winemag_df['price'] = winemag_df['price'].fillna(mediana_precio)\n",
        "# Se elimina  las 5 filas con valores nulos en la columna 'country'\n",
        "winemag_df.dropna(subset=['country'], inplace=True)\n",
        "df= winemag_df.copy()"
      ],
      "metadata": {
        "colab": {
          "base_uri": "https://localhost:8080/"
        },
        "id": "qm7SygVR73s9",
        "outputId": "00637b12-5e0d-4214-c6f8-86b9555f5ba1"
      },
      "execution_count": null,
      "outputs": [
        {
          "output_type": "stream",
          "name": "stdout",
          "text": [
            "Cantidad de duplicados: 0\n",
            "     Unnamed: 0 country                                        description  \\\n",
            "29           29      US  This standout Rocks District wine brings earth...   \n",
            "300         300      US  This standout Rocks District wine brings earth...   \n",
            "\n",
            "         designation  points  price    province                 region_1  \\\n",
            "29   The Funk Estate      94   60.0  Washington  Walla Walla Valley (WA)   \n",
            "300  The Funk Estate      94   60.0  Washington  Walla Walla Valley (WA)   \n",
            "\n",
            "            region_2 variety  winery  \n",
            "29   Columbia Valley   Syrah  Saviah  \n",
            "300  Columbia Valley   Syrah  Saviah  \n"
          ]
        }
      ]
    },
    {
      "cell_type": "code",
      "source": [
        "df.info()"
      ],
      "metadata": {
        "colab": {
          "base_uri": "https://localhost:8080/"
        },
        "id": "uQfXlFnr8AuR",
        "outputId": "92c79c89-f70c-4a73-cfa4-dc76af55df5e"
      },
      "execution_count": null,
      "outputs": [
        {
          "output_type": "stream",
          "name": "stdout",
          "text": [
            "<class 'pandas.core.frame.DataFrame'>\n",
            "Index: 150925 entries, 0 to 150929\n",
            "Data columns (total 10 columns):\n",
            " #   Column       Non-Null Count   Dtype  \n",
            "---  ------       --------------   -----  \n",
            " 0   country      150925 non-null  object \n",
            " 1   description  150925 non-null  object \n",
            " 2   designation  150925 non-null  object \n",
            " 3   points       150925 non-null  int64  \n",
            " 4   price        150925 non-null  float64\n",
            " 5   province     150925 non-null  object \n",
            " 6   region_1     150925 non-null  object \n",
            " 7   region_2     150925 non-null  object \n",
            " 8   variety      150925 non-null  object \n",
            " 9   winery       150925 non-null  object \n",
            "dtypes: float64(1), int64(1), object(8)\n",
            "memory usage: 12.7+ MB\n"
          ]
        }
      ]
    },
    {
      "cell_type": "code",
      "execution_count": null,
      "metadata": {
        "colab": {
          "base_uri": "https://localhost:8080/"
        },
        "id": "Td78rzbA6BQb",
        "outputId": "3f0285de-2e37-4df3-9b7f-498e17ebeb4e"
      },
      "outputs": [
        {
          "output_type": "stream",
          "name": "stderr",
          "text": [
            "<ipython-input-17-75f852d42f66>:3: SettingWithCopyWarning: \n",
            "A value is trying to be set on a copy of a slice from a DataFrame\n",
            "\n",
            "See the caveats in the documentation: https://pandas.pydata.org/pandas-docs/stable/user_guide/indexing.html#returning-a-view-versus-a-copy\n",
            "  df.dropna(subset=['variety', 'country', 'description', 'points', 'winery'], inplace=True)\n",
            "<ipython-input-17-75f852d42f66>:4: SettingWithCopyWarning: \n",
            "A value is trying to be set on a copy of a slice from a DataFrame\n",
            "\n",
            "See the caveats in the documentation: https://pandas.pydata.org/pandas-docs/stable/user_guide/indexing.html#returning-a-view-versus-a-copy\n",
            "  df.fillna({'price': df['price'].median()}, inplace=True)\n"
          ]
        }
      ],
      "source": [
        "# Seleccionar columnas relevantes\n",
        "df = df[['variety', 'country', 'description', 'points', 'price', 'winery']]\n",
        "df.dropna(subset=['variety', 'country', 'description', 'points', 'winery'], inplace=True)\n",
        "df.fillna({'price': df['price'].median()}, inplace=True)\n",
        "\n",
        "# Modelo basado en contenido\n",
        "vectorizer = TfidfVectorizer(stop_words='english')\n",
        "tfidf_matrix = vectorizer.fit_transform(df['description'])\n",
        "cosine_sim = linear_kernel(tfidf_matrix, tfidf_matrix)\n",
        "\n",
        "def recommend_wines_based_on_content(winery, num_recommendations=5):\n",
        "    if winery not in df['winery'].values:\n",
        "        return \"Bodega no encontrada en la base de datos.\"\n",
        "    idx = df[df['winery'] == winery].index[0]\n",
        "    sim_scores = list(enumerate(cosine_sim[idx]))\n",
        "    sim_scores = sorted(sim_scores, key=lambda x: x[1], reverse=True)\n",
        "    sim_scores = sim_scores[1:num_recommendations+1]\n",
        "    wine_indices = [i[0] for i in sim_scores]\n",
        "    return df.iloc[wine_indices][['variety', 'country', 'points', 'price', 'winery']]\n",
        "\n",
        "# Modelo colaborativo\n",
        "user_item_matrix = df.pivot_table(index='variety', columns='winery', values='points').fillna(0)\n",
        "model_knn = NearestNeighbors(metric='cosine', algorithm='brute')\n",
        "model_knn.fit(user_item_matrix)\n",
        "\n",
        "def recommend_wines_based_on_users(variety, num_recommendations=5):\n",
        "    if variety not in user_item_matrix.index:\n",
        "        return \"Variedad no encontrada en la base de datos.\"\n",
        "    distances, indices = model_knn.kneighbors([user_item_matrix.loc[variety]], n_neighbors=num_recommendations+1)\n",
        "    wine_varieties = [user_item_matrix.index[i] for i in indices.flatten()[1:]]\n",
        "    return df[df['variety'].isin(wine_varieties)][['variety', 'country', 'points', 'price', 'winery']].drop_duplicates()\n",
        "\n",
        "# Ejemplo de uso\n",
        "print(recommend_wines_based_on_content(\"Chateau Ste. Michelle\"))\n",
        "print(recommend_wines_based_on_users(\"Riesling\"))\n"
      ]
    }
  ]
}