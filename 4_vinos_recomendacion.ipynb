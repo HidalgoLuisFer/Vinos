{
  "nbformat": 4,
  "nbformat_minor": 0,
  "metadata": {
    "colab": {
      "provenance": []
    },
    "kernelspec": {
      "name": "python3",
      "display_name": "Python 3"
    },
    "language_info": {
      "name": "python"
    }
  },
  "cells": [
    {
      "cell_type": "code",
      "source": [
        "import zipfile\n",
        "import pandas as pd\n",
        "import numpy as np\n",
        "import math\n",
        "import matplotlib.pyplot as plt\n",
        "import seaborn as sns\n",
        "\n",
        "from sklearn.feature_extraction.text import TfidfVectorizer\n",
        "from sklearn.metrics.pairwise import linear_kernel\n",
        "from sklearn.neighbors import NearestNeighbors\n"
      ],
      "metadata": {
        "id": "r2muYuoE6UGn"
      },
      "execution_count": 11,
      "outputs": []
    },
    {
      "cell_type": "code",
      "source": [
        "import zipfile\n",
        "import pandas as pd\n",
        "import json\n",
        "\n",
        "api_token={\"username\":\"luisfhidalgo\",\n",
        "           \"key\":\"d4e4e6425d85ef204447086541cb5b11\"}\n",
        "!rm -rf /roo/.kaggle. # Elimina de forma recursiva y forzada un directorio y su contenido.Por si existe\n",
        "!mkdir  /root/.kaggle # Crea Directorio\n",
        "\n",
        "with open('/root/.kaggle/kaggle.json', 'w') as file:\n",
        "    json.dump(api_token, file)\n",
        "!chmod 600 /root/.kaggle/kaggle.json\n",
        "!kaggle datasets download -d zynicide/wine-reviews\n",
        "archivo_zip = 'wine-reviews.zip'\n",
        "\n",
        "# Listar los archivos dentro del ZIP\n",
        "with zipfile.ZipFile(archivo_zip, 'r') as zip_file:\n",
        "    archivos = zip_file.namelist()\n",
        "    print(\"Archivos en el ZIP:\")\n",
        "    for archivo in archivos:\n",
        "        print(archivo)\n",
        "#Cargo los Archivos Dataset a los dataframe que voy a utilizar\n",
        "\n",
        "archivo_zip = 'wine-reviews.zip'\n",
        "\n",
        "with zipfile.ZipFile(archivo_zip, 'r') as zip_file:\n",
        "\n",
        "        with zip_file.open('winemag-data-130k-v2.csv') as winemag_150_csv:  # winemag-data-130k-v2.csv\n",
        "            winemag_df = pd.read_csv(winemag_150_csv)\n"
      ],
      "metadata": {
        "colab": {
          "base_uri": "https://localhost:8080/"
        },
        "id": "1ob-ymAw66iz",
        "outputId": "3590dbec-7dec-4743-d01d-97be81577062"
      },
      "execution_count": 12,
      "outputs": [
        {
          "output_type": "stream",
          "name": "stdout",
          "text": [
            "mkdir: cannot create directory ‘/root/.kaggle’: File exists\n",
            "Dataset URL: https://www.kaggle.com/datasets/zynicide/wine-reviews\n",
            "License(s): CC-BY-NC-SA-4.0\n",
            "wine-reviews.zip: Skipping, found more recently modified local copy (use --force to force download)\n",
            "Archivos en el ZIP:\n",
            "winemag-data-130k-v2.csv\n",
            "winemag-data-130k-v2.json\n",
            "winemag-data_first150k.csv\n"
          ]
        }
      ]
    },
    {
      "cell_type": "code",
      "source": [
        "duplicados = winemag_df.duplicated().sum()\n",
        "print(\"Cantidad de duplicados:\",duplicados) # son registros exactamente iguales\n",
        "winemag_df.drop_duplicates(inplace=True)\n",
        "# Se elimina columna  'Unnamed: 0',\n",
        "#winemag_df.drop('Unnamed: 0', axis=1, inplace=True)\n",
        "winemag_df.isnull().sum()\n",
        "# Se completan valores nulos en 'designation' y 'region_1'\n",
        "winemag_df.loc[:, 'designation'] = winemag_df['designation'].fillna('Unknown')\n",
        "winemag_df.loc[:, 'region_1'] = winemag_df['region_1'].fillna('Unknown')\n",
        "winemag_df.loc[:, 'region_2'] = winemag_df['region_2'].fillna('Unknown')\n",
        "winemag_df.loc[:, 'taster_twitter_handle'] = winemag_df['taster_twitter_handle'].fillna('Unknown')\n",
        "winemag_df = winemag_df.dropna(subset=['taster_name'])\n",
        "# Imputación con la mediana en el campo 'price'\n",
        "mediana_precio = winemag_df['price'].median()\n",
        "winemag_df['price'] = winemag_df['price'].fillna(mediana_precio)\n",
        "# Se elimina  las 5 filas con valores nulos en la columna 'country'\n",
        "winemag_df.dropna(subset=['country'], inplace=True)\n"
      ],
      "metadata": {
        "colab": {
          "base_uri": "https://localhost:8080/"
        },
        "id": "qm7SygVR73s9",
        "outputId": "2b353fce-3f2a-48aa-a0fa-ad1380d2c980"
      },
      "execution_count": 13,
      "outputs": [
        {
          "output_type": "stream",
          "name": "stdout",
          "text": [
            "Cantidad de duplicados: 0\n"
          ]
        },
        {
          "output_type": "stream",
          "name": "stderr",
          "text": [
            "<ipython-input-13-0d814e8ec99f>:15: SettingWithCopyWarning: \n",
            "A value is trying to be set on a copy of a slice from a DataFrame.\n",
            "Try using .loc[row_indexer,col_indexer] = value instead\n",
            "\n",
            "See the caveats in the documentation: https://pandas.pydata.org/pandas-docs/stable/user_guide/indexing.html#returning-a-view-versus-a-copy\n",
            "  winemag_df['price'] = winemag_df['price'].fillna(mediana_precio)\n"
          ]
        }
      ]
    },
    {
      "cell_type": "code",
      "source": [
        "winemag_df.info()"
      ],
      "metadata": {
        "colab": {
          "base_uri": "https://localhost:8080/"
        },
        "id": "BNkClIIOesDq",
        "outputId": "92d9b14a-929d-4eb0-d0d7-860d4154c276"
      },
      "execution_count": 14,
      "outputs": [
        {
          "output_type": "stream",
          "name": "stdout",
          "text": [
            "<class 'pandas.core.frame.DataFrame'>\n",
            "Index: 103664 entries, 0 to 129970\n",
            "Data columns (total 14 columns):\n",
            " #   Column                 Non-Null Count   Dtype  \n",
            "---  ------                 --------------   -----  \n",
            " 0   Unnamed: 0             103664 non-null  int64  \n",
            " 1   country                103664 non-null  object \n",
            " 2   description            103664 non-null  object \n",
            " 3   designation            103664 non-null  object \n",
            " 4   points                 103664 non-null  int64  \n",
            " 5   price                  103664 non-null  float64\n",
            " 6   province               103664 non-null  object \n",
            " 7   region_1               103664 non-null  object \n",
            " 8   region_2               103664 non-null  object \n",
            " 9   taster_name            103664 non-null  object \n",
            " 10  taster_twitter_handle  103664 non-null  object \n",
            " 11  title                  103664 non-null  object \n",
            " 12  variety                103664 non-null  object \n",
            " 13  winery                 103664 non-null  object \n",
            "dtypes: float64(1), int64(2), object(11)\n",
            "memory usage: 11.9+ MB\n"
          ]
        }
      ]
    },
    {
      "cell_type": "code",
      "source": [
        "df = winemag_df.head(5000).copy()"
      ],
      "metadata": {
        "id": "tcfkx8r8e3ZW"
      },
      "execution_count": 15,
      "outputs": []
    },
    {
      "cell_type": "code",
      "source": [
        "### MODELO BASADO EN CONTENIDO ###\n",
        "def recomendar_vinos_contenido(vino_id, df=df):\n",
        "    \"\"\"\n",
        "    Recomienda vinos similares basados en variedad, país y descripción.\n",
        "    \"\"\"\n",
        "    df[\"features\"] = df[\"variety\"].fillna(\"\") + \" \" + df[\"country\"].fillna(\"\") + \" \" + df[\"description\"].fillna(\"\")\n",
        "\n",
        "    vectorizer = TfidfVectorizer(stop_words=\"english\", max_features=5000)  # Reducir características\n",
        "    tfidf_matrix = vectorizer.fit_transform(df[\"features\"])\n",
        "\n",
        "    cosine_sim = cosine_similarity(tfidf_matrix)\n",
        "    sim_scores = list(enumerate(cosine_sim[vino_id]))\n",
        "    sim_scores = sorted(sim_scores, key=lambda x: x[1], reverse=True)[1:6]  # Top 5\n",
        "    wine_indices = [i[0] for i in sim_scores]\n",
        "    return df.iloc[wine_indices][[\"title\", \"variety\", \"country\"]]"
      ],
      "metadata": {
        "id": "T7D6lYNqbKgF"
      },
      "execution_count": 16,
      "outputs": []
    },
    {
      "cell_type": "markdown",
      "source": [
        "\n",
        "## **1. Modelo Basado en Contenido (TF-IDF + Similitud Coseno)**\n",
        "- Convierte el texto en números usando **TF-IDF** (variedad, país, descripción).\n",
        "- Calcula la **similitud coseno** entre vinos.\n",
        "- **Nota:** Ideal para encontrar vinos similares a uno que ya te gusta.\n",
        "\n",
        "---"
      ],
      "metadata": {
        "id": "Kq4oToIYlOvx"
      }
    },
    {
      "cell_type": "markdown",
      "source": [],
      "metadata": {
        "id": "W-wQpabxbjt-"
      }
    },
    {
      "cell_type": "code",
      "source": [
        "# Install the surprise library\n",
        "#!pip install scikit-surprise"
      ],
      "metadata": {
        "id": "4WkJb1VeGwmC",
        "collapsed": true
      },
      "execution_count": 17,
      "outputs": []
    },
    {
      "cell_type": "code",
      "source": [
        "from sklearn.feature_extraction.text import TfidfVectorizer\n",
        "from sklearn.metrics.pairwise import cosine_similarity\n",
        "from surprise import SVD, Dataset, Reader, KNNBasic\n",
        "from surprise.model_selection import train_test_split\n",
        "from surprise import accuracy"
      ],
      "metadata": {
        "id": "zTF_1n-xbbOc"
      },
      "execution_count": 18,
      "outputs": []
    },
    {
      "cell_type": "code",
      "source": [
        "### MODELO COLABORATIVO ###\n",
        "def entrenar_modelo_colaborativo(df):\n",
        "    \"\"\"\n",
        "    Entrena un modelo KNN más ligero basado en puntuaciones de usuarios.\n",
        "    \"\"\"\n",
        "    reader = Reader(rating_scale=(df[\"points\"].min(), df[\"points\"].max()))\n",
        "    data = Dataset.load_from_df(df[[\"taster_name\", \"title\", \"points\"]], reader)\n",
        "    trainset, testset = train_test_split(data, test_size=0.2)\n",
        "\n",
        "    model = KNNBasic()  # Algoritmo más eficiente\n",
        "    model.fit(trainset)\n",
        "\n",
        "    predictions = model.test(testset)\n",
        "    print(f\"RMSE: {accuracy.rmse(predictions)}\")\n",
        "    return model\n",
        "\n",
        "def recomendar_vinos_usuario(usuario, model, df, n=5):\n",
        "    \"\"\"\n",
        "    Recomienda vinos a un usuario basado en puntuaciones previas.\n",
        "    \"\"\"\n",
        "    vinos_no_probados = df[\"title\"].unique()\n",
        "    predicciones = [model.predict(usuario, vino) for vino in vinos_no_probados[:100]]  # Limitar cantidad\n",
        "    predicciones = sorted(predicciones, key=lambda x: x.est, reverse=True)[:n]\n",
        "    return [pred.iid for pred in predicciones]\n",
        "\n",
        "# Entrenar modelo colaborativo\n",
        "modelo_colab = entrenar_modelo_colaborativo(df)"
      ],
      "metadata": {
        "colab": {
          "base_uri": "https://localhost:8080/"
        },
        "id": "NcriQ3HJfeic",
        "outputId": "47794e0f-6699-4d2b-9d9c-44a22943a789"
      },
      "execution_count": 19,
      "outputs": [
        {
          "output_type": "stream",
          "name": "stdout",
          "text": [
            "Computing the msd similarity matrix...\n",
            "Done computing similarity matrix.\n",
            "RMSE: 2.8479\n",
            "RMSE: 2.847875408868425\n"
          ]
        }
      ]
    },
    {
      "cell_type": "markdown",
      "source": [
        "---\n",
        "\n",
        "## **2. Modelo Colaborativo (KNN + Filtrado Basado en Usuarios)**\n",
        "- Utiliza **KNN** para encontrar usuarios con gustos similares.\n",
        "- Predice qué vinos podrían gustarle a un usuario en función de puntuaciones previas.\n",
        "- **Nota:** Útil para descubrir vinos nuevos según preferencias de otros consumidores.\n",
        "\n",
        "---"
      ],
      "metadata": {
        "id": "66oL7307li8q"
      }
    },
    {
      "cell_type": "code",
      "source": [
        "# Ejemplo de recomendaciones\n",
        "print(\"Recomendaciones Basadas en Contenido:\")\n",
        "print(recomendar_vinos_contenido(0))"
      ],
      "metadata": {
        "colab": {
          "base_uri": "https://localhost:8080/"
        },
        "id": "dbOyFloZl9O6",
        "outputId": "3cd54593-1c81-46cc-94c8-d9406208b07b"
      },
      "execution_count": 20,
      "outputs": [
        {
          "output_type": "stream",
          "name": "stdout",
          "text": [
            "Recomendaciones Basadas en Contenido:\n",
            "                                                  title     variety country\n",
            "2000  Feudi del Pisciotto 2013 Baglio del Sole Inzol...     Inzolia   Italy\n",
            "5991  Barone Sergio 2015 Alègre Grillo (Terre Sicili...      Grillo   Italy\n",
            "908                   Cascina Bruciata 2013  Barbaresco    Nebbiolo   Italy\n",
            "1181            Bel Colle 2013 Montersino  (Barbaresco)    Nebbiolo   Italy\n",
            "1036                Vivera 2010 Salisire Bianco  (Etna)  Carricante   Italy\n"
          ]
        }
      ]
    },
    {
      "cell_type": "code",
      "source": [
        "print(\"\\nRecomendaciones Basadas en Colaboración:\")\n",
        "print(recomendar_vinos_usuario(\"John Doe\", modelo_colab, df))"
      ],
      "metadata": {
        "colab": {
          "base_uri": "https://localhost:8080/"
        },
        "id": "LDHLeAaqfjda",
        "outputId": "038b0b9e-05a6-4685-e204-95b93b726777"
      },
      "execution_count": 21,
      "outputs": [
        {
          "output_type": "stream",
          "name": "stdout",
          "text": [
            "\n",
            "Recomendaciones Basadas en Colaboración:\n",
            "['Nicosia 2013 Vulkà Bianco  (Etna)', 'Quinta dos Avidagos 2011 Avidagos Red (Douro)', 'Rainstorm 2013 Pinot Gris (Willamette Valley)', 'St. Julian 2013 Reserve Late Harvest Riesling (Lake Michigan Shore)', \"Sweet Cheeks 2012 Vintner's Reserve Wild Child Block Pinot Noir (Willamette Valley)\"]\n"
          ]
        }
      ]
    },
    {
      "cell_type": "markdown",
      "source": [
        "# **3. Comparación de Modelos**\n",
        "| Modelo  | ¿Cómo Funciona? | Pros | Contras |\n",
        "|---------|---------------|--------|---------|\n",
        "| **Basado en Contenido** | Recomienda vinos con descripciones similares. | No necesita datos de usuarios. | No funciona bien si las descripciones no reflejan similitud. |\n",
        "| **Colaborativo (KNN)** | Recomienda vinos según puntuaciones de otros usuarios. | Descubre vinos nuevos. | Necesita suficientes datos de puntuaciones. |\n",
        "\n",
        "---\n",
        "\n",
        "## **Conclusión**\n",
        "- **Si ya existe  un vino favorito y queres más como ese:** Usar el **modelo basado en contenido**.\n",
        "- **Si queres descubrir vinos nuevos según otros usuarios:** Usar el **modelo colaborativo**.\n",
        ""
      ],
      "metadata": {
        "id": "NQ9Cr-wGlkwi"
      }
    }
  ]
}
